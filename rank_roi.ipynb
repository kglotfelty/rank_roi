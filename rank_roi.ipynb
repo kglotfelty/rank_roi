{
 "cells": [
  {
   "cell_type": "code",
   "execution_count": 1,
   "metadata": {},
   "outputs": [],
   "source": [
    "%%bash\n",
    "dmmakereg region=\"region(ds9.reg)\" out=test.fits ker=fits wcs=ngc3628_2039_broad_thresh.img cl+\n",
    "punlearn roi\n",
    "roi infile=test.fits outsrcfile=roi_out_%d.fits radiusmode=mul bkgradius=3 group=exclude targetbkg=target mo=h cl+"
   ]
  },
  {
   "cell_type": "code",
   "execution_count": 2,
   "metadata": {},
   "outputs": [
    {
     "name": "stdout",
     "output_type": "stream",
     "text": [
      "3       \n",
      "3       \n",
      "3       \n"
     ]
    }
   ],
   "source": [
    "%%bash\n",
    "dmlist roi_out\\* counts"
   ]
  },
  {
   "cell_type": "code",
   "execution_count": 3,
   "metadata": {},
   "outputs": [],
   "source": [
    "from region import CXCRegion\n"
   ]
  },
  {
   "cell_type": "code",
   "execution_count": 4,
   "metadata": {},
   "outputs": [],
   "source": [
    "aa = CXCRegion(\"roi_out_1.fits\")\n",
    "bb = CXCRegion(\"roi_out_2.fits\")\n",
    "cc = CXCRegion(\"roi_out_3.fits\")"
   ]
  },
  {
   "cell_type": "code",
   "execution_count": 5,
   "metadata": {},
   "outputs": [
    {
     "data": {
      "text/plain": [
       "ellipse(4022.93919125,4005.69778265,7.25609756098,6.97764227642,359.99657)"
      ]
     },
     "execution_count": 5,
     "metadata": {},
     "output_type": "execute_result"
    }
   ],
   "source": [
    "aa[0]"
   ]
  },
  {
   "cell_type": "markdown",
   "metadata": {},
   "source": [
    "**bug** in `__contains__` method, need to negate"
   ]
  },
  {
   "cell_type": "code",
   "execution_count": 6,
   "metadata": {},
   "outputs": [
    {
     "data": {
      "text/plain": [
       "True"
      ]
     },
     "execution_count": 6,
     "metadata": {},
     "output_type": "execute_result"
    }
   ],
   "source": [
    "aa[0] in bb  or ~aa[0] in bb"
   ]
  },
  {
   "cell_type": "code",
   "execution_count": 7,
   "metadata": {},
   "outputs": [],
   "source": [
    "from pycrates import read_file\n",
    "\n",
    "infile=\"ngc3628_2039_broad_thresh.img\""
   ]
  },
  {
   "cell_type": "code",
   "execution_count": 8,
   "metadata": {},
   "outputs": [],
   "source": [
    "img = read_file(infile)"
   ]
  },
  {
   "cell_type": "code",
   "execution_count": 9,
   "metadata": {},
   "outputs": [],
   "source": [
    "import stk\n",
    "rois = stk.build(\"roi_out_?.fits\")\n",
    "rois_reg = [CXCRegion(r) for r in rois]"
   ]
  },
  {
   "cell_type": "code",
   "execution_count": 10,
   "metadata": {},
   "outputs": [],
   "source": [
    "from ciao_contrib.runtool import make_tool\n",
    "dmstat = make_tool(\"dmstat\")\n",
    "\n",
    "stats = []\n",
    "for rr in rois_reg:\n",
    "    dmstat.infile=\"{}[sky={}]\".format(infile, rr[0])\n",
    "    dmstat(centroid=False)\n",
    "    stats.append(float(dmstat.out_sum))"
   ]
  },
  {
   "cell_type": "code",
   "execution_count": 11,
   "metadata": {},
   "outputs": [
    {
     "data": {
      "text/plain": [
       "[120.0, 46.0, 18.0]"
      ]
     },
     "execution_count": 11,
     "metadata": {},
     "output_type": "execute_result"
    }
   ],
   "source": [
    "stats"
   ]
  },
  {
   "cell_type": "code",
   "execution_count": 12,
   "metadata": {},
   "outputs": [
    {
     "data": {
      "text/plain": [
       "['roi_out_1.fits', 'roi_out_2.fits', 'roi_out_3.fits']"
      ]
     },
     "execution_count": 12,
     "metadata": {},
     "output_type": "execute_result"
    }
   ],
   "source": [
    "rois"
   ]
  },
  {
   "cell_type": "code",
   "execution_count": 13,
   "metadata": {},
   "outputs": [
    {
     "data": {
      "text/plain": [
       "[ellipse(4022.93919125,4005.69778265,7.25609756098,6.97764227642,359.99657)*!ellipse(4033.54533473,4001.51037323,7.81504065041,6.69715447154,359.99657)*!ellipse(4035.777398,4017.41883113,17.0243902439,11.7215447154,357.21175),\n",
       " ellipse(4033.54533473,4001.51037323,7.81504065041,6.69715447154,359.99657)*!ellipse(4022.93919125,4005.69778265,7.25609756098,6.97764227642,359.99657)*!ellipse(4035.777398,4017.41883113,17.0243902439,11.7215447154,357.21175),\n",
       " ellipse(4035.777398,4017.41883113,17.0243902439,11.7215447154,357.21175)*!ellipse(4022.93919125,4005.69778265,7.25609756098,6.97764227642,359.99657)*!ellipse(4033.54533473,4001.51037323,7.81504065041,6.69715447154,359.99657)]"
      ]
     },
     "execution_count": 13,
     "metadata": {},
     "output_type": "execute_result"
    }
   ],
   "source": [
    "rois_reg"
   ]
  },
  {
   "cell_type": "code",
   "execution_count": 14,
   "metadata": {},
   "outputs": [],
   "source": [
    "roi0 = [rr[0] for rr in rois_reg]"
   ]
  },
  {
   "cell_type": "code",
   "execution_count": 15,
   "metadata": {},
   "outputs": [
    {
     "data": {
      "text/plain": [
       "[ellipse(4022.93919125,4005.69778265,7.25609756098,6.97764227642,359.99657),\n",
       " ellipse(4033.54533473,4001.51037323,7.81504065041,6.69715447154,359.99657),\n",
       " ellipse(4035.777398,4017.41883113,17.0243902439,11.7215447154,357.21175)]"
      ]
     },
     "execution_count": 15,
     "metadata": {},
     "output_type": "execute_result"
    }
   ],
   "source": [
    "roi0"
   ]
  },
  {
   "cell_type": "code",
   "execution_count": 16,
   "metadata": {},
   "outputs": [],
   "source": [
    "from region import CXCRegion\n",
    "class ROI():\n",
    "    \n",
    "    def __init__(self,filename):\n",
    "        self.filename = filename\n",
    "        self.region = CXCRegion(filename)\n",
    "        self.r0 = self.region[0]\n",
    "        self.metric = None\n",
    "        self.del_other = []\n",
    "        \n",
    "\n",
    "    def compute_metric(self,propfile):\n",
    "        from ciao_contrib.runtool import make_tool\n",
    "        dmstat = make_tool(\"dmstat\")\n",
    "        dmstat.infile=\"{}[sky={}]\".format(propfile, self.r0)\n",
    "        dmstat(centroid=False)\n",
    "        self.metric = float(dmstat.out_sum)\n",
    "    \n",
    "    \n",
    "    def remove_from(self,other):                    \n",
    "        # skip self\n",
    "        if other.r0 == self.r0:\n",
    "            return\n",
    "\n",
    "        # skip if other is bigger\n",
    "        if other.metric > self.metric:\n",
    "            return\n",
    "        \n",
    "        idx = self.region.index(~other.r0)\n",
    "        self.del_other.extend(idx)\n",
    "\n",
    "        \n",
    "    def reload_with_filter(self):\n",
    "        if len(self.del_other)>0:\n",
    "            ff = \"{}[exclude #row={}]\"\n",
    "            # +1: array index -> dm row number\n",
    "            rr = \",\".join([str(x+1) for x in self.del_other]) \n",
    "            ff = ff.format(self.filename, rr)\n",
    "            self.new_region = CXCRegion(ff)\n",
    "        else:      \n",
    "            self.new_region = CXCRegion(self.filename)\n",
    "        \n",
    "        \n",
    "        \n",
    "import stk\n",
    "rois = stk.build(\"FalseStart/roi/out_0*\")\n",
    "rois_reg = [ROI(r) for r in rois]\n",
    "\n",
    "infile=\"ngc3628_2039_broad_thresh.img\"\n",
    "for r in rois_reg:\n",
    "    r.compute_metric(infile)"
   ]
  },
  {
   "cell_type": "code",
   "execution_count": 17,
   "metadata": {},
   "outputs": [],
   "source": [
    "\n",
    "for r in rois_reg:\n",
    "    for k in rois_reg:\n",
    "        k.remove_from(r)"
   ]
  },
  {
   "cell_type": "code",
   "execution_count": 18,
   "metadata": {},
   "outputs": [],
   "source": [
    "\n",
    "for r in rois_reg:\n",
    "    r.reload_with_filter()"
   ]
  },
  {
   "cell_type": "code",
   "execution_count": 19,
   "metadata": {},
   "outputs": [
    {
     "data": {
      "text/plain": [
       "ellipse(4286.05015674,3550.07836991,37.7600364685,16.2104797363,37.342250824)*!ellipse(4300.7962963,3525.59259259,24.1764907837,15.7014369965,62.3044509888)"
      ]
     },
     "execution_count": 19,
     "metadata": {},
     "output_type": "execute_result"
    }
   ],
   "source": [
    "rois_reg[0].region"
   ]
  },
  {
   "cell_type": "code",
   "execution_count": 20,
   "metadata": {},
   "outputs": [
    {
     "data": {
      "text/plain": [
       "ellipse(4286.05015674,3550.07836991,37.7600364685,16.2104797363,37.342250824)"
      ]
     },
     "execution_count": 20,
     "metadata": {},
     "output_type": "execute_result"
    }
   ],
   "source": [
    "rois_reg[0].new_region\n"
   ]
  },
  {
   "cell_type": "code",
   "execution_count": null,
   "metadata": {},
   "outputs": [],
   "source": []
  },
  {
   "cell_type": "code",
   "execution_count": null,
   "metadata": {},
   "outputs": [],
   "source": []
  },
  {
   "cell_type": "code",
   "execution_count": null,
   "metadata": {},
   "outputs": [],
   "source": []
  },
  {
   "cell_type": "code",
   "execution_count": null,
   "metadata": {},
   "outputs": [],
   "source": []
  },
  {
   "cell_type": "code",
   "execution_count": null,
   "metadata": {},
   "outputs": [],
   "source": []
  },
  {
   "cell_type": "code",
   "execution_count": null,
   "metadata": {},
   "outputs": [],
   "source": []
  },
  {
   "cell_type": "code",
   "execution_count": null,
   "metadata": {},
   "outputs": [],
   "source": []
  }
 ],
 "metadata": {
  "kernelspec": {
   "display_name": "Python 3",
   "language": "python",
   "name": "python3"
  },
  "language_info": {
   "codemirror_mode": {
    "name": "ipython",
    "version": 3
   },
   "file_extension": ".py",
   "mimetype": "text/x-python",
   "name": "python",
   "nbconvert_exporter": "python",
   "pygments_lexer": "ipython3",
   "version": "3.5.4"
  }
 },
 "nbformat": 4,
 "nbformat_minor": 2
}
