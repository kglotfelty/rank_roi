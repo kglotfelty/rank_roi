{
 "cells": [
  {
   "cell_type": "code",
   "execution_count": 1,
   "metadata": {},
   "outputs": [],
   "source": [
    "from sherpa.astro.ui import *"
   ]
  },
  {
   "cell_type": "code",
   "execution_count": 2,
   "metadata": {},
   "outputs": [],
   "source": [
    "load_data(\"img.fits\")"
   ]
  },
  {
   "cell_type": "code",
   "execution_count": 3,
   "metadata": {},
   "outputs": [],
   "source": [
    "set_source(const2d.bkg+gauss2d.aa+gauss2d.bb+gauss2d.cc+gauss2d.dd)"
   ]
  },
  {
   "cell_type": "code",
   "execution_count": 4,
   "metadata": {},
   "outputs": [
    {
     "name": "stdout",
     "output_type": "stream",
     "text": [
      "Model: 1\n",
      "((((const2d.bkg + gauss2d.aa) + gauss2d.bb) + gauss2d.cc) + gauss2d.dd)\n",
      "   Param        Type          Value          Min          Max      Units\n",
      "   -----        ----          -----          ---          ---      -----\n",
      "   bkg.c0       thawed            1 -3.40282e+38  3.40282e+38           \n",
      "   aa.fwhm      thawed           10  1.17549e-38  3.40282e+38           \n",
      "   aa.xpos      thawed            0 -3.40282e+38  3.40282e+38           \n",
      "   aa.ypos      thawed            0 -3.40282e+38  3.40282e+38           \n",
      "   aa.ellip     frozen            0            0        0.999           \n",
      "   aa.theta     frozen            0     -6.28319      6.28319    radians\n",
      "   aa.ampl      thawed            1 -3.40282e+38  3.40282e+38           \n",
      "   bb.fwhm      thawed           10  1.17549e-38  3.40282e+38           \n",
      "   bb.xpos      thawed            0 -3.40282e+38  3.40282e+38           \n",
      "   bb.ypos      thawed            0 -3.40282e+38  3.40282e+38           \n",
      "   bb.ellip     frozen            0            0        0.999           \n",
      "   bb.theta     frozen            0     -6.28319      6.28319    radians\n",
      "   bb.ampl      thawed            1 -3.40282e+38  3.40282e+38           \n",
      "   cc.fwhm      thawed           10  1.17549e-38  3.40282e+38           \n",
      "   cc.xpos      thawed            0 -3.40282e+38  3.40282e+38           \n",
      "   cc.ypos      thawed            0 -3.40282e+38  3.40282e+38           \n",
      "   cc.ellip     frozen            0            0        0.999           \n",
      "   cc.theta     frozen            0     -6.28319      6.28319    radians\n",
      "   cc.ampl      thawed            1 -3.40282e+38  3.40282e+38           \n",
      "   dd.fwhm      thawed           10  1.17549e-38  3.40282e+38           \n",
      "   dd.xpos      thawed            0 -3.40282e+38  3.40282e+38           \n",
      "   dd.ypos      thawed            0 -3.40282e+38  3.40282e+38           \n",
      "   dd.ellip     frozen            0            0        0.999           \n",
      "   dd.theta     frozen            0     -6.28319      6.28319    radians\n",
      "   dd.ampl      thawed            1 -3.40282e+38  3.40282e+38           \n",
      "\n"
     ]
    }
   ],
   "source": [
    "show_source()"
   ]
  },
  {
   "cell_type": "code",
   "execution_count": 5,
   "metadata": {},
   "outputs": [],
   "source": [
    "set_coord('physical')"
   ]
  },
  {
   "cell_type": "code",
   "execution_count": 6,
   "metadata": {},
   "outputs": [],
   "source": [
    "bkg.c0=0.01\n",
    "aa.xpos=3950\n",
    "aa.ypos=4500\n",
    "aa.fwhm=25\n",
    "aa.ampl=15\n",
    "\n",
    "bb.xpos=4000\n",
    "bb.ypos=4500\n",
    "bb.fwhm=30\n",
    "bb.ampl=9\n",
    "\n",
    "cc.xpos=(3950+4000)/2\n",
    "cc.ypos=4550\n",
    "cc.fwhm = 30\n",
    "cc.ampl=8\n",
    "\n",
    "dd.xpos=(3950+4000)/2\n",
    "dd.ypos=4450\n",
    "dd.fwhm=40\n",
    "dd.ampl=5\n"
   ]
  },
  {
   "cell_type": "code",
   "execution_count": 7,
   "metadata": {},
   "outputs": [],
   "source": [
    "\n",
    "fake(1)"
   ]
  },
  {
   "cell_type": "code",
   "execution_count": 8,
   "metadata": {},
   "outputs": [],
   "source": [
    "image_data()"
   ]
  },
  {
   "cell_type": "code",
   "execution_count": 10,
   "metadata": {},
   "outputs": [],
   "source": [
    "save_data(\"sim.fits\",ascii=False,clobber=True)"
   ]
  },
  {
   "cell_type": "code",
   "execution_count": null,
   "metadata": {},
   "outputs": [],
   "source": []
  }
 ],
 "metadata": {
  "kernelspec": {
   "display_name": "Python 3",
   "language": "python",
   "name": "python3"
  },
  "language_info": {
   "codemirror_mode": {
    "name": "ipython",
    "version": 3
   },
   "file_extension": ".py",
   "mimetype": "text/x-python",
   "name": "python",
   "nbconvert_exporter": "python",
   "pygments_lexer": "ipython3",
   "version": "3.7.7"
  }
 },
 "nbformat": 4,
 "nbformat_minor": 4
}
